{
 "metadata": {
  "name": "",
  "signature": "sha256:b1f2b1c35ffd30c2e71811a8c8c08da16281d9775f51a3973357df1291e953b2"
 },
 "nbformat": 3,
 "nbformat_minor": 0,
 "worksheets": [
  {
   "cells": [
    {
     "cell_type": "heading",
     "level": 1,
     "metadata": {},
     "source": [
      "USA JOBS DATA ANALYSIS"
     ]
    },
    {
     "cell_type": "heading",
     "level": 3,
     "metadata": {},
     "source": [
      "Resources"
     ]
    },
    {
     "cell_type": "markdown",
     "metadata": {},
     "source": [
      "1. REST API\n",
      "https://data.usajobs.gov/Rest\n",
      "\n",
      "2. IPython\n",
      "http://ipython.org/\n",
      "\n",
      "3. IPython viewer on Git\n",
      "http://nbviewer.ipython.org/"
     ]
    },
    {
     "cell_type": "heading",
     "level": 3,
     "metadata": {},
     "source": [
      "Author"
     ]
    },
    {
     "cell_type": "markdown",
     "metadata": {},
     "source": [
      "Grace Eunbe Kim \n",
      "\n",
      "Computer Science Major \n",
      "\n",
      "UC BERKELEY | 2014 December \n",
      "\n",
      "\n",
      "Git: https://github.com/graceeunbekim\n",
      "\n",
      "LinkedIn: https://www.linkedin.com/pub/grace-eunbe-kim/1b/2a/948/"
     ]
    },
    {
     "cell_type": "heading",
     "level": 1,
     "metadata": {},
     "source": [
      "API Call"
     ]
    },
    {
     "cell_type": "markdown",
     "metadata": {},
     "source": [
      "Call JOA government data API from the website below, using http requests python library in json data format. Since the data return a bunch of variables and we only need to select 'JobData' field of each job element.\n",
      "\n",
      "Assuming clients are applicants like myself who holds a computer science degree, looking for a job associated with the degree. We found the seried number for computer science jobs is 1550 from JOA website. Details of the series number is here: http://www.opm.gov/policy-data-oversight/classification-qualifications/general-schedule-qualification-standards/#url=List-by-Occupational-Series"
     ]
    },
    {
     "cell_type": "code",
     "collapsed": false,
     "input": [
      "import requests\n",
      "import json\n",
      "\n",
      "# set up for API Call\n",
      "\n",
      "# base url: https://data.usajobs.gov/api/jobs\n",
      "# HTTPS GET request\n",
      "# request header content-type accepts application/json\n",
      "\n",
      "request_token_url = 'https://data.usajobs.gov/api/jobs?Series=1550'\n",
      "HEADERS = {'Content-Type': 'application/json'} "
     ],
     "language": "python",
     "metadata": {},
     "outputs": [],
     "prompt_number": 74
    },
    {
     "cell_type": "code",
     "collapsed": false,
     "input": [
      "# get status of server response\n",
      "res = requests.get(request_token_url)\n",
      "\n",
      "status_object = json.loads(res.content);\n",
      "# print(json.dumps(status_object, indent=4))"
     ],
     "language": "python",
     "metadata": {},
     "outputs": [],
     "prompt_number": 10
    },
    {
     "cell_type": "code",
     "collapsed": false,
     "input": [
      "# select only 'JobData' field in data \n",
      "job_data = status_object['JobData']\n",
      "# print job_data"
     ],
     "language": "python",
     "metadata": {},
     "outputs": [],
     "prompt_number": 11
    },
    {
     "cell_type": "heading",
     "level": 1,
     "metadata": {},
     "source": [
      "Creating A DataFrame"
     ]
    },
    {
     "cell_type": "markdown",
     "metadata": {},
     "source": [
      "From the selected field in the API call, we use pandas library to put the data nicely into a table and display the top 5 element of the table (for debugging)."
     ]
    },
    {
     "cell_type": "code",
     "collapsed": false,
     "input": [
      "# create a data frame for json data \n",
      "from pandas import DataFrame, Series\n",
      "import pandas as pd\n",
      "\n",
      "frame = pd.DataFrame(job_data)\n",
      "\n",
      "# frame columns with desired data\n",
      "frame = frame[['OrganizationName', 'AgencySubElement', 'Locations', 'JobTitle', 'SalaryMax', 'SalaryMin', 'SalaryBasis', 'StartDate', 'EndDate']]\n",
      "frame.head() # for debugging purposes, print the first 5 rows in the frame"
     ],
     "language": "python",
     "metadata": {},
     "outputs": [
      {
       "html": [
        "<div style=\"max-height:1000px;max-width:1500px;overflow:auto;\">\n",
        "<table border=\"1\" class=\"dataframe\">\n",
        "  <thead>\n",
        "    <tr style=\"text-align: right;\">\n",
        "      <th></th>\n",
        "      <th>OrganizationName</th>\n",
        "      <th>AgencySubElement</th>\n",
        "      <th>Locations</th>\n",
        "      <th>JobTitle</th>\n",
        "      <th>SalaryMax</th>\n",
        "      <th>SalaryMin</th>\n",
        "      <th>SalaryBasis</th>\n",
        "      <th>StartDate</th>\n",
        "      <th>EndDate</th>\n",
        "    </tr>\n",
        "  </thead>\n",
        "  <tbody>\n",
        "    <tr>\n",
        "      <th>0</th>\n",
        "      <td>      Department of the Navy</td>\n",
        "      <td> Space and Naval Warfare Systems Command</td>\n",
        "      <td>                      New Orleans, Louisiana</td>\n",
        "      <td>                                         SCIENTIST</td>\n",
        "      <td> $107,434.00</td>\n",
        "      <td>  $69,497.00</td>\n",
        "      <td> Per Year</td>\n",
        "      <td> 10/10/2014</td>\n",
        "      <td> 10/20/2014</td>\n",
        "    </tr>\n",
        "    <tr>\n",
        "      <th>1</th>\n",
        "      <td>      Department of the Navy</td>\n",
        "      <td>                       U.S. Marine Corps</td>\n",
        "      <td> Albany Marine Corps Logistics Base, Georgia</td>\n",
        "      <td>                                COMPUTER SCIENTIST</td>\n",
        "      <td>  $90,344.00</td>\n",
        "      <td>  $69,497.00</td>\n",
        "      <td> Per Year</td>\n",
        "      <td>  10/1/2014</td>\n",
        "      <td> 10/14/2014</td>\n",
        "    </tr>\n",
        "    <tr>\n",
        "      <th>2</th>\n",
        "      <td> Department of the Air Force</td>\n",
        "      <td>            U.S. Air Force - Agency Wide</td>\n",
        "      <td>                        Fort Meade, Maryland</td>\n",
        "      <td> Deputy Director, SNC3I, Joint Systems Engineer...</td>\n",
        "      <td> $167,000.00</td>\n",
        "      <td> $145,100.00</td>\n",
        "      <td> Per Year</td>\n",
        "      <td>  9/24/2014</td>\n",
        "      <td> 10/20/2014</td>\n",
        "    </tr>\n",
        "    <tr>\n",
        "      <th>3</th>\n",
        "      <td>      Department of the Navy</td>\n",
        "      <td>               Naval Air Systems Command</td>\n",
        "      <td>                    Patuxent River, Maryland</td>\n",
        "      <td>   Opportunities for Individuals with Disabilities</td>\n",
        "      <td> $116,901.00</td>\n",
        "      <td>  $34,415.00</td>\n",
        "      <td> Per Year</td>\n",
        "      <td>  10/6/2014</td>\n",
        "      <td>  11/6/2014</td>\n",
        "    </tr>\n",
        "    <tr>\n",
        "      <th>4</th>\n",
        "      <td>      Department of the Army</td>\n",
        "      <td> U.S. Army Training and Doctrine Command</td>\n",
        "      <td>                         Fort Sill, Oklahoma</td>\n",
        "      <td>                                Computer Scientist</td>\n",
        "      <td>  $90,344.00</td>\n",
        "      <td>  $69,497.00</td>\n",
        "      <td> Per Year</td>\n",
        "      <td>  10/8/2014</td>\n",
        "      <td> 10/22/2014</td>\n",
        "    </tr>\n",
        "  </tbody>\n",
        "</table>\n",
        "<p>5 rows \u00d7 9 columns</p>\n",
        "</div>"
       ],
       "metadata": {},
       "output_type": "pyout",
       "prompt_number": 12,
       "text": [
        "              OrganizationName                         AgencySubElement  \\\n",
        "0       Department of the Navy  Space and Naval Warfare Systems Command   \n",
        "1       Department of the Navy                        U.S. Marine Corps   \n",
        "2  Department of the Air Force             U.S. Air Force - Agency Wide   \n",
        "3       Department of the Navy                Naval Air Systems Command   \n",
        "4       Department of the Army  U.S. Army Training and Doctrine Command   \n",
        "\n",
        "                                     Locations  \\\n",
        "0                       New Orleans, Louisiana   \n",
        "1  Albany Marine Corps Logistics Base, Georgia   \n",
        "2                         Fort Meade, Maryland   \n",
        "3                     Patuxent River, Maryland   \n",
        "4                          Fort Sill, Oklahoma   \n",
        "\n",
        "                                            JobTitle    SalaryMax  \\\n",
        "0                                          SCIENTIST  $107,434.00   \n",
        "1                                 COMPUTER SCIENTIST   $90,344.00   \n",
        "2  Deputy Director, SNC3I, Joint Systems Engineer...  $167,000.00   \n",
        "3    Opportunities for Individuals with Disabilities  $116,901.00   \n",
        "4                                 Computer Scientist   $90,344.00   \n",
        "\n",
        "     SalaryMin SalaryBasis   StartDate     EndDate  \n",
        "0   $69,497.00    Per Year  10/10/2014  10/20/2014  \n",
        "1   $69,497.00    Per Year   10/1/2014  10/14/2014  \n",
        "2  $145,100.00    Per Year   9/24/2014  10/20/2014  \n",
        "3   $34,415.00    Per Year   10/6/2014   11/6/2014  \n",
        "4   $69,497.00    Per Year   10/8/2014  10/22/2014  \n",
        "\n",
        "[5 rows x 9 columns]"
       ]
      }
     ],
     "prompt_number": 12
    },
    {
     "cell_type": "heading",
     "level": 1,
     "metadata": {},
     "source": [
      "Find Least Popular Job"
     ]
    },
    {
     "cell_type": "markdown",
     "metadata": {},
     "source": [
      "We know that if the job is unpopular relatively than others, the job posting duration must be the longest. In other words, regardless of job posting start dates and end dats, if the duration of the start and the end date is the longest, we determine that the job is the least popular. We assume that the applicants interests of checking and applying for a job throughout the year is uniformly spread out.\n",
      "\n",
      "Using datatime library, compute the number of days between a start and an end date and return the job tile of the longest date. "
     ]
    },
    {
     "cell_type": "code",
     "collapsed": false,
     "input": [
      "# find least popular jobs\n",
      "from datetime import date\n",
      "from datetime import datetime as dt\n",
      "from operator import itemgetter\n",
      "\n",
      "date_frame = frame[['StartDate', 'EndDate', 'JobTitle']]\n",
      "\n",
      "def leastPopularJobs(data_frame):\n",
      "    ''' iterate through each row in a data frame and calculate using datatime python library \n",
      "    to compute the number of days in between two dates. Add the number and the name of the job \n",
      "    in a dictionary. Sorted by the dictionary values, reversed in a decreasing order,\n",
      "    adn return the key of the first element of the dictionary.'''\n",
      "    start = data_frame['StartDate']\n",
      "    end = data_frame['EndDate']\n",
      "    job_title = data_frame['JobTitle']\n",
      "\n",
      "    date_format = \"%m/%d/%Y\"\n",
      "    total_duration = {}\n",
      "    for i_start in start.index:\n",
      "        for i_end in end.index:\n",
      "            start_date = dt.strptime(start[i_start], date_format)\n",
      "            end_date = dt.strptime(end[i_end], date_format)\n",
      "            delta = abs(end_date - start_date)\n",
      "            \n",
      "            total_duration[job_title[i_start]] = delta\n",
      "    return sorted(total_duration.items(), key=itemgetter(1))[::-1][0][0]\n",
      "\n",
      "res = leastPopularJobs(date_frame)\n",
      "print res"
     ],
     "language": "python",
     "metadata": {},
     "outputs": [
      {
       "output_type": "stream",
       "stream": "stdout",
       "text": [
        "SENIOR RESEARCH SCIENTIST (NEAR-SURFACE PHENOMENOLOGY)\n"
       ]
      }
     ],
     "prompt_number": 73
    },
    {
     "cell_type": "code",
     "collapsed": false,
     "input": [
      "# "
     ],
     "language": "python",
     "metadata": {},
     "outputs": [],
     "prompt_number": 24
    },
    {
     "cell_type": "heading",
     "level": 1,
     "metadata": {},
     "source": [
      "Suggestions"
     ]
    },
    {
     "cell_type": "heading",
     "level": 3,
     "metadata": {},
     "source": [
      "Filling Out Unpopular Jobs"
     ]
    },
    {
     "cell_type": "markdown",
     "metadata": {},
     "source": [
      "Based on the sample code above in the 'Find Least Popular Job' section, we can use the function 'leastPopularJobs' to determine top five (or we need a set of threashhold to determine a numeric value of least popular jobs in the list). Then, we can do followings with the return value:\n",
      "\n",
      "1. When an applicant does research on a job, we return data from the least popular jobs to the most popular jobs to fill out unpopular jobs quickly. Making dicovery rate higher for unpopular jobs enables the applicants to see them first and it adds higher chance of getting applicants.\n",
      "\n",
      "2. To further increase relevance for job searching yet maintain to return unpopular ones first, we grab cookies from an applicant A who is currently searching, find the location of A, and run a function that matches with the location of A and the locations of the unpopular jobs.\n",
      "\n",
      "3. We can even take this further by adding a field 'miles'. For instance, an applicant can add how many miles they are willing to commute or relocate from their current location. We implement a function to calculate the distance between the location of the applicant and the locations of the unpopular jobs and return only the ones fall into the range the applicant input at the beginning of the search."
     ]
    },
    {
     "cell_type": "code",
     "collapsed": false,
     "input": [],
     "language": "python",
     "metadata": {},
     "outputs": []
    }
   ],
   "metadata": {}
  }
 ]
}